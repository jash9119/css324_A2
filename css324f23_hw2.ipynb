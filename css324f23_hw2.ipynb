{
 "cells": [
  {
   "cell_type": "markdown",
   "metadata": {
    "id": "1co9QUId36Eo"
   },
   "source": [
    "# CSS324 Homework Assignment 2\n",
    "\n",
    "CIFAR10 is a small image classification dataset. Its objective is to classification an 32x32 color image into 10 classes.\n",
    "\n",
    "See https://www.cs.toronto.edu/~kriz/cifar.html and https://keras.io/api/datasets/cifar10/ for more details."
   ]
  },
  {
   "cell_type": "markdown",
   "metadata": {},
   "source": [
    "## Group Members\n",
    "1. Member 1 : Featthima Bou\n",
    "2. Member 2 : Jaya Shree Hada"
   ]
  },
  {
   "cell_type": "code",
   "execution_count": 1,
   "metadata": {},
   "outputs": [
    {
     "name": "stdout",
     "output_type": "stream",
     "text": [
      "Collecting tensorflow\n",
      "  Downloading tensorflow-2.15.0-cp311-cp311-macosx_12_0_arm64.whl (2.1 kB)\n",
      "Collecting tensorflow-macos==2.15.0\n",
      "  Downloading tensorflow_macos-2.15.0-cp311-cp311-macosx_12_0_arm64.whl (208.8 MB)\n",
      "\u001b[2K     \u001b[90m━━━━━━━━━━━━━━━━━━━━━━━━━━━━━━━━━━━━━━━\u001b[0m \u001b[32m208.8/208.8 MB\u001b[0m \u001b[31m1.7 MB/s\u001b[0m eta \u001b[36m0:00:00\u001b[0m00:01\u001b[0m00:04\u001b[0m\n",
      "\u001b[?25hCollecting absl-py>=1.0.0\n",
      "  Downloading absl_py-2.0.0-py3-none-any.whl (130 kB)\n",
      "\u001b[2K     \u001b[90m━━━━━━━━━━━━━━━━━━━━━━━━━━━━━━━━━━━━━━━\u001b[0m \u001b[32m130.2/130.2 kB\u001b[0m \u001b[31m1.6 MB/s\u001b[0m eta \u001b[36m0:00:00\u001b[0ma \u001b[36m0:00:01\u001b[0m\n",
      "\u001b[?25hCollecting astunparse>=1.6.0\n",
      "  Downloading astunparse-1.6.3-py2.py3-none-any.whl (12 kB)\n",
      "Collecting flatbuffers>=23.5.26\n",
      "  Downloading flatbuffers-23.5.26-py2.py3-none-any.whl (26 kB)\n",
      "Collecting gast!=0.5.0,!=0.5.1,!=0.5.2,>=0.2.1\n",
      "  Downloading gast-0.5.4-py3-none-any.whl (19 kB)\n",
      "Collecting google-pasta>=0.1.1\n",
      "  Downloading google_pasta-0.2.0-py3-none-any.whl (57 kB)\n",
      "\u001b[2K     \u001b[90m━━━━━━━━━━━━━━━━━━━━━━━━━━━━━━━━━━━━━━━━\u001b[0m \u001b[32m57.5/57.5 kB\u001b[0m \u001b[31m1.4 MB/s\u001b[0m eta \u001b[36m0:00:00\u001b[0m\n",
      "\u001b[?25hCollecting h5py>=2.9.0\n",
      "  Downloading h5py-3.10.0-cp311-cp311-macosx_11_0_arm64.whl (2.6 MB)\n",
      "\u001b[2K     \u001b[90m━━━━━━━━━━━━━━━━━━━━━━━━━━━━━━━━━━━━━━━━\u001b[0m \u001b[32m2.6/2.6 MB\u001b[0m \u001b[31m4.9 MB/s\u001b[0m eta \u001b[36m0:00:00\u001b[0m00:01\u001b[0m00:01\u001b[0m\n",
      "\u001b[?25hCollecting libclang>=13.0.0\n",
      "  Downloading libclang-16.0.6-py2.py3-none-macosx_11_0_arm64.whl (20.6 MB)\n",
      "\u001b[2K     \u001b[90m━━━━━━━━━━━━━━━━━━━━━━━━━━━━━━━━━━━━━━━━\u001b[0m \u001b[32m20.6/20.6 MB\u001b[0m \u001b[31m1.8 MB/s\u001b[0m eta \u001b[36m0:00:00\u001b[0m00:01\u001b[0m00:01\u001b[0m\n",
      "\u001b[?25hCollecting ml-dtypes~=0.2.0\n",
      "  Downloading ml_dtypes-0.2.0-cp311-cp311-macosx_10_9_universal2.whl (1.2 MB)\n",
      "\u001b[2K     \u001b[90m━━━━━━━━━━━━━━━━━━━━━━━━━━━━━━━━━━━━━━━━\u001b[0m \u001b[32m1.2/1.2 MB\u001b[0m \u001b[31m2.4 MB/s\u001b[0m eta \u001b[36m0:00:00\u001b[0m00:01\u001b[0m00:01\u001b[0m\n",
      "\u001b[?25hRequirement already satisfied: numpy<2.0.0,>=1.23.5 in /Library/Frameworks/Python.framework/Versions/3.11/lib/python3.11/site-packages (from tensorflow-macos==2.15.0->tensorflow) (1.26.2)\n",
      "Collecting opt-einsum>=2.3.2\n",
      "  Downloading opt_einsum-3.3.0-py3-none-any.whl (65 kB)\n",
      "\u001b[2K     \u001b[90m━━━━━━━━━━━━━━━━━━━━━━━━━━━━━━━━━━━━━━━━\u001b[0m \u001b[32m65.5/65.5 kB\u001b[0m \u001b[31m1.7 MB/s\u001b[0m eta \u001b[36m0:00:00\u001b[0ma \u001b[36m0:00:01\u001b[0m\n",
      "\u001b[?25hRequirement already satisfied: packaging in /Users/jayashreehada/Library/Python/3.11/lib/python/site-packages (from tensorflow-macos==2.15.0->tensorflow) (23.2)\n",
      "Collecting protobuf!=4.21.0,!=4.21.1,!=4.21.2,!=4.21.3,!=4.21.4,!=4.21.5,<5.0.0dev,>=3.20.3\n",
      "  Downloading protobuf-4.25.1-cp37-abi3-macosx_10_9_universal2.whl (394 kB)\n",
      "\u001b[2K     \u001b[90m━━━━━━━━━━━━━━━━━━━━━━━━━━━━━━━━━━━━━━━\u001b[0m \u001b[32m394.2/394.2 kB\u001b[0m \u001b[31m3.4 MB/s\u001b[0m eta \u001b[36m0:00:00\u001b[0m00:01\u001b[0m00:01\u001b[0m\n",
      "\u001b[?25hRequirement already satisfied: setuptools in /Library/Frameworks/Python.framework/Versions/3.11/lib/python3.11/site-packages (from tensorflow-macos==2.15.0->tensorflow) (65.5.0)\n",
      "Requirement already satisfied: six>=1.12.0 in /Users/jayashreehada/Library/Python/3.11/lib/python/site-packages (from tensorflow-macos==2.15.0->tensorflow) (1.16.0)\n",
      "Collecting termcolor>=1.1.0\n",
      "  Downloading termcolor-2.3.0-py3-none-any.whl (6.9 kB)\n",
      "Collecting typing-extensions>=3.6.6\n",
      "  Downloading typing_extensions-4.8.0-py3-none-any.whl (31 kB)\n",
      "Collecting wrapt<1.15,>=1.11.0\n",
      "  Downloading wrapt-1.14.1-cp311-cp311-macosx_11_0_arm64.whl (36 kB)\n",
      "Collecting tensorflow-io-gcs-filesystem>=0.23.1\n",
      "  Downloading tensorflow_io_gcs_filesystem-0.34.0-cp311-cp311-macosx_12_0_arm64.whl (1.9 MB)\n",
      "\u001b[2K     \u001b[90m━━━━━━━━━━━━━━━━━━━━━━━━━━━━━━━━━━━━━━━━\u001b[0m \u001b[32m1.9/1.9 MB\u001b[0m \u001b[31m7.9 MB/s\u001b[0m eta \u001b[36m0:00:00\u001b[0m00:01\u001b[0m00:01\u001b[0mm\n",
      "\u001b[?25hCollecting grpcio<2.0,>=1.24.3\n",
      "  Downloading grpcio-1.59.3-cp311-cp311-macosx_10_10_universal2.whl (9.6 MB)\n",
      "\u001b[2K     \u001b[90m━━━━━━━━━━━━━━━━━━━━━━━━━━━━━━━━━━━━━━━━\u001b[0m \u001b[32m9.6/9.6 MB\u001b[0m \u001b[31m2.1 MB/s\u001b[0m eta \u001b[36m0:00:00\u001b[0m00:01\u001b[0m00:01\u001b[0m\n",
      "\u001b[?25hCollecting tensorboard<2.16,>=2.15\n",
      "  Downloading tensorboard-2.15.1-py3-none-any.whl (5.5 MB)\n",
      "\u001b[2K     \u001b[90m━━━━━━━━━━━━━━━━━━━━━━━━━━━━━━━━━━━━━━━━\u001b[0m \u001b[32m5.5/5.5 MB\u001b[0m \u001b[31m1.9 MB/s\u001b[0m eta \u001b[36m0:00:00\u001b[0m00:01\u001b[0m00:01\u001b[0m\n",
      "\u001b[?25hCollecting tensorflow-estimator<2.16,>=2.15.0\n",
      "  Downloading tensorflow_estimator-2.15.0-py2.py3-none-any.whl (441 kB)\n",
      "\u001b[2K     \u001b[90m━━━━━━━━━━━━━━━━━━━━━━━━━━━━━━━━━━━━━━━\u001b[0m \u001b[32m442.0/442.0 kB\u001b[0m \u001b[31m2.8 MB/s\u001b[0m eta \u001b[36m0:00:00\u001b[0m00:01\u001b[0m00:01\u001b[0m\n",
      "\u001b[?25hCollecting keras<2.16,>=2.15.0\n",
      "  Downloading keras-2.15.0-py3-none-any.whl (1.7 MB)\n",
      "\u001b[2K     \u001b[90m━━━━━━━━━━━━━━━━━━━━━━━━━━━━━━━━━━━━━━━━\u001b[0m \u001b[32m1.7/1.7 MB\u001b[0m \u001b[31m2.1 MB/s\u001b[0m eta \u001b[36m0:00:00\u001b[0m00:01\u001b[0m00:01\u001b[0m\n",
      "\u001b[?25hCollecting wheel<1.0,>=0.23.0\n",
      "  Downloading wheel-0.41.3-py3-none-any.whl (65 kB)\n",
      "\u001b[2K     \u001b[90m━━━━━━━━━━━━━━━━━━━━━━━━━━━━━━━━━━━━━━━━\u001b[0m \u001b[32m65.8/65.8 kB\u001b[0m \u001b[31m1.3 MB/s\u001b[0m eta \u001b[36m0:00:00\u001b[0ma \u001b[36m0:00:01\u001b[0m\n",
      "\u001b[?25hCollecting google-auth<3,>=1.6.3\n",
      "  Downloading google_auth-2.23.4-py2.py3-none-any.whl (183 kB)\n",
      "\u001b[2K     \u001b[90m━━━━━━━━━━━━━━━━━━━━━━━━━━━━━━━━━━━━━━━\u001b[0m \u001b[32m183.3/183.3 kB\u001b[0m \u001b[31m2.3 MB/s\u001b[0m eta \u001b[36m0:00:00\u001b[0ma \u001b[36m0:00:01\u001b[0m\n",
      "\u001b[?25hCollecting google-auth-oauthlib<2,>=0.5\n",
      "  Downloading google_auth_oauthlib-1.1.0-py2.py3-none-any.whl (19 kB)\n",
      "Collecting markdown>=2.6.8\n",
      "  Downloading Markdown-3.5.1-py3-none-any.whl (102 kB)\n",
      "\u001b[2K     \u001b[90m━━━━━━━━━━━━━━━━━━━━━━━━━━━━━━━━━━━━━━━\u001b[0m \u001b[32m102.2/102.2 kB\u001b[0m \u001b[31m2.9 MB/s\u001b[0m eta \u001b[36m0:00:00\u001b[0ma \u001b[36m0:00:01\u001b[0m\n",
      "\u001b[?25hCollecting protobuf!=4.21.0,!=4.21.1,!=4.21.2,!=4.21.3,!=4.21.4,!=4.21.5,<5.0.0dev,>=3.20.3\n",
      "  Downloading protobuf-4.23.4-cp37-abi3-macosx_10_9_universal2.whl (400 kB)\n",
      "\u001b[2K     \u001b[90m━━━━━━━━━━━━━━━━━━━━━━━━━━━━━━━━━━━━━━━\u001b[0m \u001b[32m400.3/400.3 kB\u001b[0m \u001b[31m4.3 MB/s\u001b[0m eta \u001b[36m0:00:00\u001b[0m00:01\u001b[0m00:01\u001b[0m\n",
      "\u001b[?25hCollecting requests<3,>=2.21.0\n",
      "  Downloading requests-2.31.0-py3-none-any.whl (62 kB)\n",
      "\u001b[2K     \u001b[90m━━━━━━━━━━━━━━━━━━━━━━━━━━━━━━━━━━━━━━━━\u001b[0m \u001b[32m62.6/62.6 kB\u001b[0m \u001b[31m1.7 MB/s\u001b[0m eta \u001b[36m0:00:00\u001b[0m\n",
      "\u001b[?25hCollecting tensorboard-data-server<0.8.0,>=0.7.0\n",
      "  Downloading tensorboard_data_server-0.7.2-py3-none-any.whl (2.4 kB)\n",
      "Collecting werkzeug>=1.0.1\n",
      "  Downloading werkzeug-3.0.1-py3-none-any.whl (226 kB)\n",
      "\u001b[2K     \u001b[90m━━━━━━━━━━━━━━━━━━━━━━━━━━━━━━━━━━━━━━━\u001b[0m \u001b[32m226.7/226.7 kB\u001b[0m \u001b[31m3.9 MB/s\u001b[0m eta \u001b[36m0:00:00\u001b[0ma \u001b[36m0:00:01\u001b[0m\n",
      "\u001b[?25hCollecting cachetools<6.0,>=2.0.0\n",
      "  Downloading cachetools-5.3.2-py3-none-any.whl (9.3 kB)\n",
      "Collecting pyasn1-modules>=0.2.1\n",
      "  Downloading pyasn1_modules-0.3.0-py2.py3-none-any.whl (181 kB)\n",
      "\u001b[2K     \u001b[90m━━━━━━━━━━━━━━━━━━━━━━━━━━━━━━━━━━━━━━━\u001b[0m \u001b[32m181.3/181.3 kB\u001b[0m \u001b[31m4.5 MB/s\u001b[0m eta \u001b[36m0:00:00\u001b[0ma \u001b[36m0:00:01\u001b[0m\n",
      "\u001b[?25hCollecting rsa<5,>=3.1.4\n",
      "  Downloading rsa-4.9-py3-none-any.whl (34 kB)\n",
      "Collecting requests-oauthlib>=0.7.0\n",
      "  Downloading requests_oauthlib-1.3.1-py2.py3-none-any.whl (23 kB)\n",
      "Collecting charset-normalizer<4,>=2\n",
      "  Downloading charset_normalizer-3.3.2-cp311-cp311-macosx_11_0_arm64.whl (118 kB)\n",
      "\u001b[2K     \u001b[90m━━━━━━━━━━━━━━━━━━━━━━━━━━━━━━━━━━━━━━━\u001b[0m \u001b[32m119.0/119.0 kB\u001b[0m \u001b[31m3.2 MB/s\u001b[0m eta \u001b[36m0:00:00\u001b[0m\n",
      "\u001b[?25hCollecting idna<4,>=2.5\n",
      "  Downloading idna-3.4-py3-none-any.whl (61 kB)\n",
      "\u001b[2K     \u001b[90m━━━━━━━━━━━━━━━━━━━━━━━━━━━━━━━━━━━━━━━━\u001b[0m \u001b[32m61.5/61.5 kB\u001b[0m \u001b[31m2.3 MB/s\u001b[0m eta \u001b[36m0:00:00\u001b[0m\n",
      "\u001b[?25hCollecting urllib3<3,>=1.21.1\n",
      "  Downloading urllib3-2.1.0-py3-none-any.whl (104 kB)\n",
      "\u001b[2K     \u001b[90m━━━━━━━━━━━━━━━━━━━━━━━━━━━━━━━━━━━━━━━\u001b[0m \u001b[32m104.6/104.6 kB\u001b[0m \u001b[31m2.1 MB/s\u001b[0m eta \u001b[36m0:00:00\u001b[0m00:01\u001b[0m\n",
      "\u001b[?25hCollecting certifi>=2017.4.17\n",
      "  Downloading certifi-2023.11.17-py3-none-any.whl (162 kB)\n",
      "\u001b[2K     \u001b[90m━━━━━━━━━━━━━━━━━━━━━━━━━━━━━━━━━━━━━━━\u001b[0m \u001b[32m162.5/162.5 kB\u001b[0m \u001b[31m4.2 MB/s\u001b[0m eta \u001b[36m0:00:00\u001b[0m\n",
      "\u001b[?25hCollecting MarkupSafe>=2.1.1\n",
      "  Downloading MarkupSafe-2.1.3-cp311-cp311-macosx_10_9_universal2.whl (17 kB)\n",
      "Collecting pyasn1<0.6.0,>=0.4.6\n",
      "  Downloading pyasn1-0.5.1-py2.py3-none-any.whl (84 kB)\n",
      "\u001b[2K     \u001b[90m━━━━━━━━━━━━━━━━━━━━━━━━━━━━━━━━━━━━━━━━\u001b[0m \u001b[32m84.9/84.9 kB\u001b[0m \u001b[31m2.8 MB/s\u001b[0m eta \u001b[36m0:00:00\u001b[0m\n",
      "\u001b[?25hCollecting oauthlib>=3.0.0\n",
      "  Downloading oauthlib-3.2.2-py3-none-any.whl (151 kB)\n",
      "\u001b[2K     \u001b[90m━━━━━━━━━━━━━━━━━━━━━━━━━━━━━━━━━━━━━━━\u001b[0m \u001b[32m151.7/151.7 kB\u001b[0m \u001b[31m4.8 MB/s\u001b[0m eta \u001b[36m0:00:00\u001b[0m\n",
      "\u001b[?25hInstalling collected packages: libclang, flatbuffers, wrapt, wheel, urllib3, typing-extensions, termcolor, tensorflow-io-gcs-filesystem, tensorflow-estimator, tensorboard-data-server, pyasn1, protobuf, opt-einsum, oauthlib, ml-dtypes, MarkupSafe, markdown, keras, idna, h5py, grpcio, google-pasta, gast, charset-normalizer, certifi, cachetools, absl-py, werkzeug, rsa, requests, pyasn1-modules, astunparse, requests-oauthlib, google-auth, google-auth-oauthlib, tensorboard, tensorflow-macos, tensorflow\n",
      "Successfully installed MarkupSafe-2.1.3 absl-py-2.0.0 astunparse-1.6.3 cachetools-5.3.2 certifi-2023.11.17 charset-normalizer-3.3.2 flatbuffers-23.5.26 gast-0.5.4 google-auth-2.23.4 google-auth-oauthlib-1.1.0 google-pasta-0.2.0 grpcio-1.59.3 h5py-3.10.0 idna-3.4 keras-2.15.0 libclang-16.0.6 markdown-3.5.1 ml-dtypes-0.2.0 oauthlib-3.2.2 opt-einsum-3.3.0 protobuf-4.23.4 pyasn1-0.5.1 pyasn1-modules-0.3.0 requests-2.31.0 requests-oauthlib-1.3.1 rsa-4.9 tensorboard-2.15.1 tensorboard-data-server-0.7.2 tensorflow-2.15.0 tensorflow-estimator-2.15.0 tensorflow-io-gcs-filesystem-0.34.0 tensorflow-macos-2.15.0 termcolor-2.3.0 typing-extensions-4.8.0 urllib3-2.1.0 werkzeug-3.0.1 wheel-0.41.3 wrapt-1.14.1\n",
      "\n",
      "\u001b[1m[\u001b[0m\u001b[34;49mnotice\u001b[0m\u001b[1;39;49m]\u001b[0m\u001b[39;49m A new release of pip available: \u001b[0m\u001b[31;49m22.3.1\u001b[0m\u001b[39;49m -> \u001b[0m\u001b[32;49m23.3.1\u001b[0m\n",
      "\u001b[1m[\u001b[0m\u001b[34;49mnotice\u001b[0m\u001b[1;39;49m]\u001b[0m\u001b[39;49m To update, run: \u001b[0m\u001b[32;49mpython3 -m pip install --upgrade pip\u001b[0m\n",
      "Note: you may need to restart the kernel to use updated packages.\n"
     ]
    }
   ],
   "source": [
    "pip install tensorflow"
   ]
  },
  {
   "cell_type": "code",
   "execution_count": 2,
   "metadata": {},
   "outputs": [
    {
     "name": "stdout",
     "output_type": "stream",
     "text": [
      "Collecting matplotlib\n",
      "  Downloading matplotlib-3.8.2-cp311-cp311-macosx_11_0_arm64.whl (7.5 MB)\n",
      "\u001b[2K     \u001b[90m━━━━━━━━━━━━━━━━━━━━━━━━━━━━━━━━━━━━━━━━\u001b[0m \u001b[32m7.5/7.5 MB\u001b[0m \u001b[31m2.4 MB/s\u001b[0m eta \u001b[36m0:00:00\u001b[0m00:01\u001b[0m00:01\u001b[0m\n",
      "\u001b[?25hCollecting contourpy>=1.0.1\n",
      "  Downloading contourpy-1.2.0-cp311-cp311-macosx_11_0_arm64.whl (243 kB)\n",
      "\u001b[2K     \u001b[90m━━━━━━━━━━━━━━━━━━━━━━━━━━━━━━━━━━━━━━━\u001b[0m \u001b[32m243.4/243.4 kB\u001b[0m \u001b[31m2.4 MB/s\u001b[0m eta \u001b[36m0:00:00\u001b[0ma \u001b[36m0:00:01\u001b[0m\n",
      "\u001b[?25hCollecting cycler>=0.10\n",
      "  Downloading cycler-0.12.1-py3-none-any.whl (8.3 kB)\n",
      "Collecting fonttools>=4.22.0\n",
      "  Downloading fonttools-4.45.0-cp311-cp311-macosx_10_9_universal2.whl (2.8 MB)\n",
      "\u001b[2K     \u001b[90m━━━━━━━━━━━━━━━━━━━━━━━━━━━━━━━━━━━━━━━━\u001b[0m \u001b[32m2.8/2.8 MB\u001b[0m \u001b[31m2.5 MB/s\u001b[0m eta \u001b[36m0:00:00\u001b[0m00:01\u001b[0m00:01\u001b[0m\n",
      "\u001b[?25hCollecting kiwisolver>=1.3.1\n",
      "  Downloading kiwisolver-1.4.5-cp311-cp311-macosx_11_0_arm64.whl (66 kB)\n",
      "\u001b[2K     \u001b[90m━━━━━━━━━━━━━━━━━━━━━━━━━━━━━━━━━━━━━━━━\u001b[0m \u001b[32m66.2/66.2 kB\u001b[0m \u001b[31m1.1 MB/s\u001b[0m eta \u001b[36m0:00:00\u001b[0ma \u001b[36m0:00:01\u001b[0m\n",
      "\u001b[?25hRequirement already satisfied: numpy<2,>=1.21 in /Library/Frameworks/Python.framework/Versions/3.11/lib/python3.11/site-packages (from matplotlib) (1.26.2)\n",
      "Requirement already satisfied: packaging>=20.0 in /Users/jayashreehada/Library/Python/3.11/lib/python/site-packages (from matplotlib) (23.2)\n",
      "Collecting pillow>=8\n",
      "  Downloading Pillow-10.1.0-cp311-cp311-macosx_11_0_arm64.whl (3.3 MB)\n",
      "\u001b[2K     \u001b[90m━━━━━━━━━━━━━━━━━━━━━━━━━━━━━━━━━━━━━━━━\u001b[0m \u001b[32m3.3/3.3 MB\u001b[0m \u001b[31m2.4 MB/s\u001b[0m eta \u001b[36m0:00:00\u001b[0m00:01\u001b[0m00:01\u001b[0m\n",
      "\u001b[?25hCollecting pyparsing>=2.3.1\n",
      "  Downloading pyparsing-3.1.1-py3-none-any.whl (103 kB)\n",
      "\u001b[2K     \u001b[90m━━━━━━━━━━━━━━━━━━━━━━━━━━━━━━━━━━━━━━━\u001b[0m \u001b[32m103.1/103.1 kB\u001b[0m \u001b[31m2.2 MB/s\u001b[0m eta \u001b[36m0:00:00\u001b[0m00:01\u001b[0m\n",
      "\u001b[?25hRequirement already satisfied: python-dateutil>=2.7 in /Users/jayashreehada/Library/Python/3.11/lib/python/site-packages (from matplotlib) (2.8.2)\n",
      "Requirement already satisfied: six>=1.5 in /Users/jayashreehada/Library/Python/3.11/lib/python/site-packages (from python-dateutil>=2.7->matplotlib) (1.16.0)\n",
      "Installing collected packages: pyparsing, pillow, kiwisolver, fonttools, cycler, contourpy, matplotlib\n",
      "Successfully installed contourpy-1.2.0 cycler-0.12.1 fonttools-4.45.0 kiwisolver-1.4.5 matplotlib-3.8.2 pillow-10.1.0 pyparsing-3.1.1\n",
      "\n",
      "\u001b[1m[\u001b[0m\u001b[34;49mnotice\u001b[0m\u001b[1;39;49m]\u001b[0m\u001b[39;49m A new release of pip available: \u001b[0m\u001b[31;49m22.3.1\u001b[0m\u001b[39;49m -> \u001b[0m\u001b[32;49m23.3.1\u001b[0m\n",
      "\u001b[1m[\u001b[0m\u001b[34;49mnotice\u001b[0m\u001b[1;39;49m]\u001b[0m\u001b[39;49m To update, run: \u001b[0m\u001b[32;49mpython3 -m pip install --upgrade pip\u001b[0m\n",
      "Note: you may need to restart the kernel to use updated packages.\n"
     ]
    }
   ],
   "source": [
    "pip install matplotlib"
   ]
  },
  {
   "cell_type": "code",
   "execution_count": 2,
   "metadata": {
    "id": "3zXtrgRH9oK5"
   },
   "outputs": [],
   "source": [
    "import tensorflow as tf\n",
    "import matplotlib.pyplot as plt\n",
    "import numpy as np"
   ]
  },
  {
   "cell_type": "code",
   "execution_count": 3,
   "metadata": {
    "id": "ZMSl6MYp33eW"
   },
   "outputs": [],
   "source": [
    "# Load CIFAR10 dataset\n",
    "(x, y), (x_test, y_test) = tf.keras.datasets.cifar10.load_data()\n",
    "y, y_test = y.flatten(), y_test.flatten()\n",
    "x = x / 255\n",
    "x_test = x_test / 255"
   ]
  },
  {
   "cell_type": "code",
   "execution_count": 5,
   "metadata": {
    "colab": {
     "base_uri": "https://localhost:8080/",
     "height": 283
    },
    "id": "Vwoz3JDK98Jy",
    "outputId": "627a3eb3-0c0b-4cb9-8228-dcbb387cd32a"
   },
   "outputs": [
    {
     "data": {
      "image/png": "[encoded data removed]",
      "text/plain": [
       "<Figure size 640x480 with 1 Axes>"
      ]
     },
     "metadata": {},
     "output_type": "display_data"
    },
    {
     "name": "stdout",
     "output_type": "stream",
     "text": [
      "Class= 7\n"
     ]
    }
   ],
   "source": [
    "# Plot a training example\n",
    "plt.imshow(x[11, :, :, :])\n",
    "plt.show()\n",
    "print(f\"Class= {y[11]}\")        # 7 = horse"
   ]
  },
  {
   "cell_type": "code",
   "execution_count": 6,
   "metadata": {},
   "outputs": [
    {
     "name": "stdout",
     "output_type": "stream",
     "text": [
      "Shape of the datasets\n",
      "Training set   = (40000, 32, 32, 3) (40000,)\n",
      "Validation set = (10000, 32, 32, 3) (10000,)\n",
      "Test set       = (10000, 32, 32, 3) (10000,)\n"
     ]
    }
   ],
   "source": [
    "# Split the training set\n",
    "from sklearn.model_selection import train_test_split\n",
    "\n",
    "X_train, X_valid, y_train, y_valid = train_test_split(x, y, test_size=0.2, random_state=11)\n",
    "X_test = x_test\n",
    "\n",
    "print(\"Shape of the datasets\")\n",
    "print(\"Training set   =\", X_train.shape, y_train.shape)\n",
    "print(\"Validation set =\", X_valid.shape, y_valid.shape)\n",
    "print(\"Test set       =\", X_test.shape, y_test.shape)"
   ]
  },
  {
   "cell_type": "code",
   "execution_count": 7,
   "metadata": {},
   "outputs": [],
   "source": [
    "# Use one-hot encoding for y\n",
    "Y_train = tf.one_hot(y_train, 10)\n",
    "Y_valid = tf.one_hot(y_valid, 10)\n",
    "Y_test = tf.one_hot(y_test, 10)"
   ]
  },
  {
   "cell_type": "markdown",
   "metadata": {
    "id": "lFt4OqeP_Buc"
   },
   "source": [
    "## Task\n",
    "\n",
    "Construct a deep neural network to classify images in the CIFAR10 dataset. You can choose the numbers of hidden nodes, appropriate activation functions, regularizers, or the structure of the network. \n",
    "\n",
    "After the training process, print the training, validation, and test accuracies, as well as plot the training loss and validation loss.\n",
    "\n",
    "**Contraints**\n",
    " - The number of weight layers must be less than or equal to 6.\n",
    " - The number of training epochs must be set to 50.\n",
    " - Your model must achieve the test accuracy of at least 60%.\n",
    "\n",
    "**Rules**\n",
    " - This is a group work. Each group can compose of up to three members."
   ]
  },
  {
   "cell_type": "code",
   "execution_count": 8,
   "metadata": {
    "id": "kpuD33bU__mt"
   },
   "outputs": [
    {
     "name": "stdout",
     "output_type": "stream",
     "text": [
      "Model: \"sequential\"\n",
      "_________________________________________________________________\n",
      " Layer (type)                Output Shape              Param #   \n",
      "=================================================================\n",
      " flatten (Flatten)           (None, 3072)              0         \n",
      "                                                                 \n",
      " dense (Dense)               (None, 500)               1536500   \n",
      "                                                                 \n",
      " dense_1 (Dense)             (None, 10)                5010      \n",
      "                                                                 \n",
      "=================================================================\n",
      "Total params: 1541510 (5.88 MB)\n",
      "Trainable params: 1541510 (5.88 MB)\n",
      "Non-trainable params: 0 (0.00 Byte)\n",
      "_________________________________________________________________\n"
     ]
    },
    {
     "name": "stderr",
     "output_type": "stream",
     "text": [
      "WARNING:absl:At this time, the v2.11+ optimizer `tf.keras.optimizers.Adam` runs slowly on M1/M2 Macs, please use the legacy Keras optimizer instead, located at `tf.keras.optimizers.legacy.Adam`.\n"
     ]
    },
    {
     "name": "stdout",
     "output_type": "stream",
     "text": [
      "Epoch 1/50\n",
      "10/10 [==============================] - 1s 97ms/step - loss: 2.4164 - accuracy: 0.1588 - val_loss: 2.1699 - val_accuracy: 0.1921\n",
      "Epoch 2/50\n",
      "10/10 [==============================] - 1s 60ms/step - loss: 2.0659 - accuracy: 0.2600 - val_loss: 2.0000 - val_accuracy: 0.3001\n",
      "Epoch 3/50\n",
      "10/10 [==============================] - 1s 61ms/step - loss: 1.9640 - accuracy: 0.3057 - val_loss: 1.9350 - val_accuracy: 0.3243\n",
      "Epoch 4/50\n",
      "10/10 [==============================] - 1s 59ms/step - loss: 1.9062 - accuracy: 0.3386 - val_loss: 1.8858 - val_accuracy: 0.3439\n",
      "Epoch 5/50\n",
      "10/10 [==============================] - 1s 60ms/step - loss: 1.8642 - accuracy: 0.3540 - val_loss: 1.8549 - val_accuracy: 0.3608\n",
      "Epoch 6/50\n",
      "10/10 [==============================] - 1s 60ms/step - loss: 1.8320 - accuracy: 0.3675 - val_loss: 1.8264 - val_accuracy: 0.3733\n",
      "Epoch 7/50\n",
      "10/10 [==============================] - 1s 61ms/step - loss: 1.8079 - accuracy: 0.3724 - val_loss: 1.8049 - val_accuracy: 0.3851\n",
      "Epoch 8/50\n",
      "10/10 [==============================] - 1s 60ms/step - loss: 1.7874 - accuracy: 0.3817 - val_loss: 1.7913 - val_accuracy: 0.3805\n",
      "Epoch 9/50\n",
      "10/10 [==============================] - 1s 59ms/step - loss: 1.7676 - accuracy: 0.3894 - val_loss: 1.7687 - val_accuracy: 0.3940\n",
      "Epoch 10/50\n",
      "10/10 [==============================] - 1s 60ms/step - loss: 1.7474 - accuracy: 0.3995 - val_loss: 1.7539 - val_accuracy: 0.3988\n",
      "Epoch 11/50\n",
      "10/10 [==============================] - 1s 60ms/step - loss: 1.7344 - accuracy: 0.4020 - val_loss: 1.7411 - val_accuracy: 0.4033\n",
      "Epoch 12/50\n",
      "10/10 [==============================] - 1s 60ms/step - loss: 1.7161 - accuracy: 0.4087 - val_loss: 1.7264 - val_accuracy: 0.4073\n",
      "Epoch 13/50\n",
      "10/10 [==============================] - 1s 60ms/step - loss: 1.7050 - accuracy: 0.4121 - val_loss: 1.7161 - val_accuracy: 0.4090\n",
      "Epoch 14/50\n",
      "10/10 [==============================] - 1s 68ms/step - loss: 1.6879 - accuracy: 0.4187 - val_loss: 1.7015 - val_accuracy: 0.4119\n",
      "Epoch 15/50\n",
      "10/10 [==============================] - 1s 61ms/step - loss: 1.6742 - accuracy: 0.4219 - val_loss: 1.6897 - val_accuracy: 0.4173\n",
      "Epoch 16/50\n",
      "10/10 [==============================] - 1s 65ms/step - loss: 1.6602 - accuracy: 0.4293 - val_loss: 1.6804 - val_accuracy: 0.4200\n",
      "Epoch 17/50\n",
      "10/10 [==============================] - 1s 59ms/step - loss: 1.6504 - accuracy: 0.4320 - val_loss: 1.6707 - val_accuracy: 0.4193\n",
      "Epoch 18/50\n",
      "10/10 [==============================] - 1s 62ms/step - loss: 1.6411 - accuracy: 0.4327 - val_loss: 1.6627 - val_accuracy: 0.4243\n",
      "Epoch 19/50\n",
      "10/10 [==============================] - 1s 63ms/step - loss: 1.6304 - accuracy: 0.4383 - val_loss: 1.6528 - val_accuracy: 0.4296\n",
      "Epoch 20/50\n",
      "10/10 [==============================] - 1s 63ms/step - loss: 1.6225 - accuracy: 0.4422 - val_loss: 1.6424 - val_accuracy: 0.4339\n",
      "Epoch 21/50\n",
      "10/10 [==============================] - 1s 60ms/step - loss: 1.6124 - accuracy: 0.4441 - val_loss: 1.6419 - val_accuracy: 0.4328\n",
      "Epoch 22/50\n",
      "10/10 [==============================] - 1s 60ms/step - loss: 1.6016 - accuracy: 0.4500 - val_loss: 1.6300 - val_accuracy: 0.4372\n",
      "Epoch 23/50\n",
      "10/10 [==============================] - 1s 61ms/step - loss: 1.5901 - accuracy: 0.4542 - val_loss: 1.6249 - val_accuracy: 0.4363\n",
      "Epoch 24/50\n",
      "10/10 [==============================] - 1s 65ms/step - loss: 1.5841 - accuracy: 0.4573 - val_loss: 1.6145 - val_accuracy: 0.4411\n",
      "Epoch 25/50\n",
      "10/10 [==============================] - 1s 61ms/step - loss: 1.5763 - accuracy: 0.4597 - val_loss: 1.6075 - val_accuracy: 0.4413\n",
      "Epoch 26/50\n",
      "10/10 [==============================] - 1s 60ms/step - loss: 1.5711 - accuracy: 0.4604 - val_loss: 1.6025 - val_accuracy: 0.4457\n",
      "Epoch 27/50\n",
      "10/10 [==============================] - 1s 59ms/step - loss: 1.5621 - accuracy: 0.4615 - val_loss: 1.5974 - val_accuracy: 0.4452\n",
      "Epoch 28/50\n",
      "10/10 [==============================] - 1s 58ms/step - loss: 1.5539 - accuracy: 0.4665 - val_loss: 1.5947 - val_accuracy: 0.4454\n",
      "Epoch 29/50\n",
      "10/10 [==============================] - 1s 64ms/step - loss: 1.5490 - accuracy: 0.4681 - val_loss: 1.5919 - val_accuracy: 0.4474\n",
      "Epoch 30/50\n",
      "10/10 [==============================] - 1s 61ms/step - loss: 1.5434 - accuracy: 0.4701 - val_loss: 1.5806 - val_accuracy: 0.4528\n",
      "Epoch 31/50\n",
      "10/10 [==============================] - 1s 60ms/step - loss: 1.5365 - accuracy: 0.4716 - val_loss: 1.5834 - val_accuracy: 0.4490\n",
      "Epoch 32/50\n",
      "10/10 [==============================] - 1s 61ms/step - loss: 1.5317 - accuracy: 0.4719 - val_loss: 1.5773 - val_accuracy: 0.4513\n",
      "Epoch 33/50\n",
      "10/10 [==============================] - 1s 60ms/step - loss: 1.5282 - accuracy: 0.4737 - val_loss: 1.5747 - val_accuracy: 0.4519\n",
      "Epoch 34/50\n",
      "10/10 [==============================] - 1s 60ms/step - loss: 1.5221 - accuracy: 0.4773 - val_loss: 1.5774 - val_accuracy: 0.4530\n",
      "Epoch 35/50\n",
      "10/10 [==============================] - 1s 61ms/step - loss: 1.5184 - accuracy: 0.4772 - val_loss: 1.5714 - val_accuracy: 0.4578\n",
      "Epoch 36/50\n",
      "10/10 [==============================] - 1s 62ms/step - loss: 1.5144 - accuracy: 0.4764 - val_loss: 1.5621 - val_accuracy: 0.4589\n",
      "Epoch 37/50\n",
      "10/10 [==============================] - 1s 61ms/step - loss: 1.5047 - accuracy: 0.4832 - val_loss: 1.5597 - val_accuracy: 0.4588\n",
      "Epoch 38/50\n",
      "10/10 [==============================] - 1s 62ms/step - loss: 1.4975 - accuracy: 0.4871 - val_loss: 1.5528 - val_accuracy: 0.4635\n",
      "Epoch 39/50\n",
      "10/10 [==============================] - 1s 61ms/step - loss: 1.4923 - accuracy: 0.4886 - val_loss: 1.5520 - val_accuracy: 0.4613\n",
      "Epoch 40/50\n",
      "10/10 [==============================] - 1s 61ms/step - loss: 1.4882 - accuracy: 0.4879 - val_loss: 1.5477 - val_accuracy: 0.4628\n",
      "Epoch 41/50\n",
      "10/10 [==============================] - 1s 60ms/step - loss: 1.4848 - accuracy: 0.4902 - val_loss: 1.5413 - val_accuracy: 0.4666\n",
      "Epoch 42/50\n",
      "10/10 [==============================] - 1s 61ms/step - loss: 1.4830 - accuracy: 0.4887 - val_loss: 1.5431 - val_accuracy: 0.4631\n",
      "Epoch 43/50\n",
      "10/10 [==============================] - 1s 63ms/step - loss: 1.4778 - accuracy: 0.4913 - val_loss: 1.5372 - val_accuracy: 0.4674\n",
      "Epoch 44/50\n",
      "10/10 [==============================] - 1s 61ms/step - loss: 1.4704 - accuracy: 0.4942 - val_loss: 1.5399 - val_accuracy: 0.4674\n",
      "Epoch 45/50\n",
      "10/10 [==============================] - 1s 60ms/step - loss: 1.4672 - accuracy: 0.4967 - val_loss: 1.5282 - val_accuracy: 0.4713\n",
      "Epoch 46/50\n",
      "10/10 [==============================] - 1s 59ms/step - loss: 1.4605 - accuracy: 0.4991 - val_loss: 1.5236 - val_accuracy: 0.4754\n",
      "Epoch 47/50\n",
      "10/10 [==============================] - 1s 59ms/step - loss: 1.4563 - accuracy: 0.5001 - val_loss: 1.5271 - val_accuracy: 0.4710\n",
      "Epoch 48/50\n",
      "10/10 [==============================] - 1s 59ms/step - loss: 1.4538 - accuracy: 0.4994 - val_loss: 1.5213 - val_accuracy: 0.4738\n",
      "Epoch 49/50\n",
      "10/10 [==============================] - 1s 61ms/step - loss: 1.4476 - accuracy: 0.5031 - val_loss: 1.5197 - val_accuracy: 0.4772\n",
      "Epoch 50/50\n",
      "10/10 [==============================] - 1s 59ms/step - loss: 1.4466 - accuracy: 0.5029 - val_loss: 1.5190 - val_accuracy: 0.4758\n"
     ]
    }
   ],
   "source": [
    "# Your implementation for Question 1\n",
    "from tensorflow.keras import Sequential\n",
    "from tensorflow.keras.layers import Input, Dense, Flatten\n",
    "\n",
    "model = Sequential([\n",
    "    Input(shape=(32, 32, 3)),\n",
    "    Flatten(),\n",
    "    Dense(500, activation='relu'),\n",
    "    Dense(10, activation='softmax')\n",
    "])\n",
    "\n",
    "model.summary()\n",
    "\n",
    "model.compile(optimizer=tf.keras.optimizers.Adam(3e-4), loss='categorical_crossentropy', metrics=['accuracy'])\n",
    "\n",
    "hist1 = model.fit(X_train, Y_train, batch_size=4096, validation_data=(X_valid, Y_valid), epochs=50)"
   ]
  },
  {
   "cell_type": "code",
   "execution_count": 7,
   "metadata": {
    "id": "3Amk91Chjzqz"
   },
   "outputs": [
    {
     "data": {
      "image/png": "[encoded data removed]",
      "text/plain": [
       "<Figure size 640x480 with 1 Axes>"
      ]
     },
     "metadata": {},
     "output_type": "display_data"
    }
   ],
   "source": [
    "# Plot the training loss and validation loss\n",
    "N = len(hist1.history['loss'])\n",
    "plt.plot(np.arange(N), hist1.history['loss'])\n",
    "plt.plot(np.arange(N), hist1.history['val_loss'])\n",
    "plt.ylabel('loss')\n",
    "plt.xlabel('epoch')\n",
    "plt.legend(['training_loss', 'val_loss'], loc='upper right')\n",
    "plt.show()"
   ]
  },
  {
   "cell_type": "code",
   "execution_count": 8,
   "metadata": {},
   "outputs": [
    {
     "name": "stdout",
     "output_type": "stream",
     "text": [
      "Training accuracy   = 0.5060\n",
      "Validation accuracy = 0.4687\n",
      "Test accuracy       = 0.4719\n"
     ]
    }
   ],
   "source": [
    "res = model.evaluate(X_train, Y_train, verbose=0, batch_size=2048)\n",
    "print(f\"Training accuracy   = {res[1]:.4f}\")\n",
    "res = model.evaluate(X_valid, Y_valid, verbose=0, batch_size=2048)\n",
    "print(f\"Validation accuracy = {res[1]:.4f}\")\n",
    "res = model.evaluate(X_test, Y_test, verbose=0, batch_size=2048)\n",
    "print(f\"Test accuracy       = {res[1]:.4f}\")"
   ]
  }
 ],
 "metadata": {
  "accelerator": "GPU",
  "colab": {
   "provenance": []
  },
  "kernelspec": {
   "display_name": "Python 3 (ipykernel)",
   "language": "python",
   "name": "python3"
  },
  "language_info": {
   "codemirror_mode": {
    "name": "ipython",
    "version": 3
   },
   "file_extension": ".py",
   "mimetype": "text/x-python",
   "name": "python",
   "nbconvert_exporter": "python",
   "pygments_lexer": "ipython3",
   "version": "3.11.1"
  }
 },
 "nbformat": 4,
 "nbformat_minor": 4
}
